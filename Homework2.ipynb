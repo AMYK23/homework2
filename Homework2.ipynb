{
 "cells": [
  {
   "cell_type": "code",
   "execution_count": 2,
   "id": "d1c64364-8dbc-46ab-aafc-362254030e05",
   "metadata": {},
   "outputs": [
    {
     "name": "stdout",
     "output_type": "stream",
     "text": [
      "[895, 240, 970]\n"
     ]
    }
   ],
   "source": [
    "#Questin 1\n",
    "\n",
    "import random\n",
    "\n",
    "result = []\n",
    "for _ in range(3):\n",
    "    num = random.randint(100, 999)\n",
    "    while num % 5 != 0:\n",
    "        num = random.randint(100, 999)\n",
    "    result.append(num)\n",
    "\n",
    "print(result)\n",
    "\n"
   ]
  },
  {
   "cell_type": "code",
   "execution_count": null,
   "id": "f925dace-cdf1-405b-a586-21348be2573f",
   "metadata": {},
   "outputs": [],
   "source": []
  },
  {
   "cell_type": "code",
   "execution_count": null,
   "id": "dba20728",
   "metadata": {},
   "outputs": [],
   "source": []
  },
  {
   "cell_type": "code",
   "execution_count": 3,
   "id": "3ba1ee93",
   "metadata": {},
   "outputs": [
    {
     "data": {
      "image/png": "[encoded data removed]",
      "text/plain": [
       "<Figure size 640x480 with 1 Axes>"
      ]
     },
     "metadata": {},
     "output_type": "display_data"
    }
   ],
   "source": [
    "#Questin 2\n",
    "\n",
    "import numpy as np\n",
    "import matplotlib.pyplot as plt\n",
    "\n",
    "samples = np.random.logistic(loc=10, scale=1, size=1000)\n",
    "plt.hist(samples, bins=50)\n",
    "plt.show()\n"
   ]
  },
  {
   "cell_type": "code",
   "execution_count": null,
   "id": "8f253b3f",
   "metadata": {},
   "outputs": [],
   "source": []
  },
  {
   "cell_type": "code",
   "execution_count": null,
   "id": "5d3e1b59",
   "metadata": {},
   "outputs": [],
   "source": []
  },
  {
   "cell_type": "code",
   "execution_count": 137,
   "id": "2b7dd417",
   "metadata": {},
   "outputs": [
    {
     "name": "stdout",
     "output_type": "stream",
     "text": [
      "Secure random OTP is 842513\n"
     ]
    }
   ],
   "source": [
    "#Questin 3\n",
    "\n",
    "import random\n",
    "\n",
    "otp = ''.join(random.choice('0123456789') for _ in range(6))\n",
    "print(\"Secure random OTP is\", otp)\n"
   ]
  },
  {
   "cell_type": "code",
   "execution_count": null,
   "id": "695855fb",
   "metadata": {},
   "outputs": [],
   "source": []
  },
  {
   "cell_type": "code",
   "execution_count": null,
   "id": "81d2b403",
   "metadata": {},
   "outputs": [],
   "source": []
  },
  {
   "cell_type": "code",
   "execution_count": 146,
   "id": "fe80d817",
   "metadata": {},
   "outputs": [
    {
     "name": "stdout",
     "output_type": "stream",
     "text": [
      "Random char is i\n"
     ]
    }
   ],
   "source": [
    "#Questin 4\n",
    "\n",
    "import random\n",
    "\n",
    "text = \"Simulation and modeling\"\n",
    "random_char = random.choice(text)\n",
    "print(\"Random char is\", random_char)\n"
   ]
  },
  {
   "cell_type": "code",
   "execution_count": null,
   "id": "63db9c38",
   "metadata": {},
   "outputs": [],
   "source": []
  },
  {
   "cell_type": "code",
   "execution_count": null,
   "id": "2b1c0e6f",
   "metadata": {},
   "outputs": [],
   "source": []
  },
  {
   "cell_type": "code",
   "execution_count": 36,
   "id": "60da0416",
   "metadata": {},
   "outputs": [
    {
     "name": "stdout",
     "output_type": "stream",
     "text": [
      "Random string is ElriS\n"
     ]
    }
   ],
   "source": [
    "#Questin 5\n",
    "\n",
    "import string\n",
    "import random\n",
    "\n",
    "characters = string.ascii_letters\n",
    "random_string = ''.join(random.choice(characters) for _ in range(5))\n",
    "print(\"Random string is\", random_string)\n"
   ]
  },
  {
   "cell_type": "code",
   "execution_count": null,
   "id": "16e35285",
   "metadata": {},
   "outputs": [],
   "source": []
  },
  {
   "cell_type": "code",
   "execution_count": null,
   "id": "29dde10f",
   "metadata": {},
   "outputs": [],
   "source": []
  },
  {
   "cell_type": "code",
   "execution_count": 37,
   "id": "603c4563",
   "metadata": {},
   "outputs": [
    {
     "name": "stdout",
     "output_type": "stream",
     "text": [
      "Password is |Mu64A\"_zN\n"
     ]
    }
   ],
   "source": [
    "#Questin 6\n",
    "\n",
    "import string\n",
    "import random\n",
    "\n",
    "characters = string.ascii_uppercase + string.ascii_lowercase\n",
    "digits = string.digits\n",
    "special_symbols = string.punctuation\n",
    "\n",
    "password = random.choices(characters, k=2) + random.choices(digits, k=1) + random.choices(special_symbols, k=1)\n",
    "password += random.choices(characters + digits + special_symbols, k=6)\n",
    "random.shuffle(password)\n",
    "\n",
    "password = ''.join(password)\n",
    "print(\"Password is\", password)\n"
   ]
  },
  {
   "cell_type": "code",
   "execution_count": null,
   "id": "1617d3e8",
   "metadata": {},
   "outputs": [],
   "source": []
  },
  {
   "cell_type": "code",
   "execution_count": null,
   "id": "b4767bbd",
   "metadata": {},
   "outputs": [],
   "source": []
  },
  {
   "cell_type": "code",
   "execution_count": 39,
   "id": "ec25d55f",
   "metadata": {},
   "outputs": [
    {
     "name": "stdout",
     "output_type": "stream",
     "text": [
      "[[0 1 2]\n",
      " [6 7 8]\n",
      " [3 4 5]]\n"
     ]
    }
   ],
   "source": [
    "#Questin 7\n",
    "\n",
    "import numpy as np\n",
    "\n",
    "arr = np.arange(0, 9).reshape(3, 3)\n",
    "np.random.shuffle(arr)\n",
    "\n",
    "print(arr)\n"
   ]
  },
  {
   "cell_type": "code",
   "execution_count": null,
   "id": "ebc7a84e",
   "metadata": {},
   "outputs": [],
   "source": []
  },
  {
   "cell_type": "code",
   "execution_count": null,
   "id": "307cc357",
   "metadata": {},
   "outputs": [],
   "source": []
  },
  {
   "cell_type": "code",
   "execution_count": 76,
   "id": "bf1492c8",
   "metadata": {},
   "outputs": [
    {
     "name": "stdout",
     "output_type": "stream",
     "text": [
      "Random secure Hexadecimal token is 85fd2f781e58fc31bb9e5e3c5a4df7d48af5c3b0b21559f6eba0344c33630fc7\n",
      "Random secure URL is s7oRAj97__IPkEinvMQkLFL4VaFHnt00lr5dAb21yLg\n"
     ]
    }
   ],
   "source": [
    "#Questin 8\n",
    "\n",
    "import secrets\n",
    "\n",
    "secure_token = secrets.token_hex(32)\n",
    "random_url = secrets.token_urlsafe(32)\n",
    "\n",
    "print(\"Random secure Hexadecimal token is\", secure_token)\n",
    "print(\"Random secure URL is\", random_url)\n"
   ]
  },
  {
   "cell_type": "code",
   "execution_count": null,
   "id": "0dff681a",
   "metadata": {},
   "outputs": [],
   "source": []
  },
  {
   "cell_type": "code",
   "execution_count": null,
   "id": "47667c85",
   "metadata": {},
   "outputs": [],
   "source": []
  },
  {
   "cell_type": "code",
   "execution_count": 81,
   "id": "260b3b67",
   "metadata": {},
   "outputs": [
    {
     "name": "stdout",
     "output_type": "stream",
     "text": [
      "6\n",
      "1\n",
      "1\n",
      "6\n",
      "3\n"
     ]
    }
   ],
   "source": [
    "#Questin 9\n",
    "\n",
    "import random\n",
    "\n",
    "random.seed(42)  # Set the seed to ensure consistent random output\n",
    "\n",
    "for _ in range(5):\n",
    "    random_number = random.randint(1, 6)\n",
    "    print(random_number)\n"
   ]
  },
  {
   "cell_type": "code",
   "execution_count": null,
   "id": "5a26fec1",
   "metadata": {},
   "outputs": [],
   "source": []
  },
  {
   "cell_type": "code",
   "execution_count": null,
   "id": "ff1117d2",
   "metadata": {},
   "outputs": [],
   "source": []
  },
  {
   "cell_type": "code",
   "execution_count": 82,
   "id": "9c53f4f9",
   "metadata": {},
   "outputs": [
    {
     "name": "stdout",
     "output_type": "stream",
     "text": [
      "Hi! What is your name?\n",
      "Ahmed\n",
      "Welcome, Ahmed! I am thinking of an integer between 1 and 20.\n",
      "Take a guess and type the integer:\n",
      "7\n",
      "Your guess is too low.\n",
      "Take a guess and type the integer:\n",
      "15\n",
      "Your guess is too high.\n",
      "Take a guess and type the integer:\n",
      "10\n",
      "Your guess is too high.\n",
      "Take a guess and type the integer:\n",
      "9\n",
      "Your guess is too high.\n",
      "Take a guess and type the integer:\n",
      "8\n",
      "Well done, Ahmed! You guessed my number in 5 guesses!\n"
     ]
    }
   ],
   "source": [
    "#Questin 10\n",
    "\n",
    "import random\n",
    "\n",
    "def play_guessing_game():\n",
    "    number_to_guess = random.randint(1, 20)\n",
    "    attempts = 0\n",
    "\n",
    "    print(\"Hi! What is your name?\")\n",
    "    name = input()\n",
    "    print(\"Welcome, \" + name + \"! I am thinking of an integer between 1 and 20.\")\n",
    "\n",
    "    while attempts < 6:\n",
    "        print(\"Take a guess and type the integer:\")\n",
    "        guess = int(input())\n",
    "        attempts += 1\n",
    "\n",
    "        if guess < number_to_guess:\n",
    "            print(\"Your guess is too low.\")\n",
    "        elif guess > number_to_guess:\n",
    "            print(\"Your guess is too high.\")\n",
    "        else:\n",
    "            print(\"Well done, \" + name + \"! You guessed my number in \" + str(attempts) + \" guesses!\")\n",
    "            return\n",
    "\n",
    "    print(\"Sorry, \" + name + \"! You couldn't guess my number. It was \" + str(number_to_guess) + \".\")\n",
    "\n",
    "play_guessing_game()\n"
   ]
  },
  {
   "cell_type": "code",
   "execution_count": null,
   "id": "269a78d7",
   "metadata": {},
   "outputs": [],
   "source": []
  }
 ],
 "metadata": {
  "kernelspec": {
   "display_name": "Python 3 (ipykernel)",
   "language": "python",
   "name": "python3"
  },
  "language_info": {
   "codemirror_mode": {
    "name": "ipython",
    "version": 3
   },
   "file_extension": ".py",
   "mimetype": "text/x-python",
   "name": "python",
   "nbconvert_exporter": "python",
   "pygments_lexer": "ipython3",
   "version": "3.10.9"
  }
 },
 "nbformat": 4,
 "nbformat_minor": 5
}
